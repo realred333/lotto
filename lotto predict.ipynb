{
 "cells": [
  {
   "cell_type": "code",
   "execution_count": 46,
   "id": "c027beae",
   "metadata": {},
   "outputs": [],
   "source": [
    "from __future__ import absolute_import, division, print_function, unicode_literals\n",
    "import pandas as pd\n",
    "import numpy as np\n",
    "import matplotlib.pyplot as plt"
   ]
  },
  {
   "cell_type": "code",
   "execution_count": 47,
   "id": "8c26aa92",
   "metadata": {},
   "outputs": [
    {
     "name": "stdout",
     "output_type": "stream",
     "text": [
      "985\n"
     ]
    }
   ],
   "source": [
    "#데이터를 불러와\n",
    "\n",
    "import numpy as np\n",
    "\n",
    "rows = np.loadtxt(\"./lotto.csv\", delimiter=\",\")\n",
    "row_count = len(rows)\n",
    "print(row_count)"
   ]
  },
  {
   "cell_type": "code",
   "execution_count": 48,
   "id": "17c4f1c2",
   "metadata": {},
   "outputs": [],
   "source": [
    "import numpy as np\n",
    "\n",
    "# 당첨번호를 원핫인코딩벡터(ohbin)으로 변환\n",
    "def numbers2ohbin(numbers):\n",
    "\n",
    "    ohbin = np.zeros(45) #45개의 빈 칸을 만듬\n",
    "\n",
    "    for i in range(6): #여섯개의 당첨번호에 대해서 반복함\n",
    "        ohbin[int(numbers[i])-1] = 1 #로또번호가 1부터 시작하지만 벡터의 인덱스 시작은 0부터 시작하므로 1을 뺌\n",
    "    \n",
    "    return ohbin\n",
    "\n",
    "# 원핫인코딩벡터(ohbin)를 번호로 변환\n",
    "def ohbin2numbers(ohbin):\n",
    "\n",
    "    numbers = []\n",
    "    \n",
    "    for i in range(len(ohbin)):\n",
    "        if ohbin[i] == 1.0: # 1.0으로 설정되어 있으면 해당 번호를 반환값에 추가한다.\n",
    "            numbers.append(i+1)\n",
    "    \n",
    "    return numbers"
   ]
  },
  {
   "cell_type": "code",
   "execution_count": 49,
   "id": "a7a4dbd7",
   "metadata": {
    "scrolled": true
   },
   "outputs": [
    {
     "name": "stdout",
     "output_type": "stream",
     "text": [
      "ohbins\n",
      "X[0]: [0. 0. 0. 0. 0. 0. 0. 0. 0. 1. 0. 0. 0. 0. 0. 0. 0. 0. 0. 0. 0. 0. 1. 0.\n",
      " 0. 0. 0. 0. 1. 0. 0. 0. 1. 0. 0. 0. 1. 0. 0. 1. 0. 0. 0. 0. 0.]\n",
      "Y[0]: [0. 0. 0. 0. 0. 0. 0. 0. 1. 0. 0. 0. 1. 0. 0. 0. 0. 0. 0. 0. 1. 0. 0. 0.\n",
      " 1. 0. 0. 0. 0. 0. 0. 1. 0. 0. 0. 0. 0. 0. 0. 0. 0. 1. 0. 0. 0.]\n",
      "numbers\n",
      "X[0]: [10, 23, 29, 33, 37, 40]\n",
      "Y[0]: [9, 13, 21, 25, 32, 42]\n"
     ]
    }
   ],
   "source": [
    "numbers = rows[:, 1:7]\n",
    "ohbins = list(map(numbers2ohbin, numbers))\n",
    "\n",
    "x_samples = ohbins[0:row_count-1]\n",
    "y_samples = ohbins[1:row_count]\n",
    "\n",
    "#원핫인코딩으로 표시\n",
    "print(\"ohbins\")\n",
    "print(\"X[0]: \" + str(x_samples[0]))\n",
    "print(\"Y[0]: \" + str(y_samples[0]))\n",
    "\n",
    "#번호로 표시\n",
    "print(\"numbers\")\n",
    "print(\"X[0]: \" + str(ohbin2numbers(x_samples[0])))\n",
    "print(\"Y[0]: \" + str(ohbin2numbers(y_samples[0])))"
   ]
  },
  {
   "cell_type": "code",
   "execution_count": 50,
   "id": "bc0edb29",
   "metadata": {},
   "outputs": [],
   "source": [
    "#windows를 만들자\n",
    "\n",
    "seq_len = 50\n",
    "sequence_length = seq_len + 1\n",
    "\n",
    "result=[]\n",
    "for index in range(len(x_samples)-sequence_length):\n",
    "    result.append(x_samples[index: index+sequence_length])\n",
    "\n",
    "    "
   ]
  },
  {
   "cell_type": "code",
   "execution_count": 51,
   "id": "8f62bd0f",
   "metadata": {},
   "outputs": [
    {
     "data": {
      "text/plain": [
       "((886, 44, 1), (98, 44, 1))"
      ]
     },
     "execution_count": 51,
     "metadata": {},
     "output_type": "execute_result"
    }
   ],
   "source": [
    "result = np.array(x_samples)\n",
    "\n",
    "row = int(round(result.shape[0]*0.9))\n",
    "train = result[:row, :]\n",
    "np.random.shuffle(train)\n",
    "\n",
    "x_train = train[:, :-1]\n",
    "x_train = np.reshape(x_train,(x_train.shape[0], x_train.shape[1],-1))\n",
    "y_train = train[:,-1]\n",
    "\n",
    "x_test = result[row:, :-1]\n",
    "x_test = np.reshape(x_test,(x_test.shape[0], x_test.shape[1],-1))\n",
    "y_test = result[row:,-1]\n",
    "\n",
    "x_train.shape, x_test.shape\n"
   ]
  },
  {
   "cell_type": "code",
   "execution_count": 52,
   "id": "7c697489",
   "metadata": {},
   "outputs": [
    {
     "name": "stdout",
     "output_type": "stream",
     "text": [
      "Model: \"sequential_5\"\n",
      "_________________________________________________________________\n",
      "Layer (type)                 Output Shape              Param #   \n",
      "=================================================================\n",
      "lstm_10 (LSTM)               (None, 50, 50)            10400     \n",
      "_________________________________________________________________\n",
      "lstm_11 (LSTM)               (None, 64)                29440     \n",
      "_________________________________________________________________\n",
      "dense_4 (Dense)              (None, 45)                2925      \n",
      "=================================================================\n",
      "Total params: 42,765\n",
      "Trainable params: 42,765\n",
      "Non-trainable params: 0\n",
      "_________________________________________________________________\n"
     ]
    }
   ],
   "source": [
    "import tensorflow as tf\n",
    "from tensorflow import keras\n",
    "from tensorflow.keras import layers\n",
    "from tensorflow.keras import models\n",
    "from tensorflow.keras.losses import Huber\n",
    "from tensorflow.keras.optimizers import Adam\n",
    "\n",
    "from tensorflow.keras.models import Sequential\n",
    "from tensorflow.keras.layers import Dense, LSTM, Conv1D, Lambda\n",
    "\n",
    "#모델을 컴파일 해보자\n",
    "model = Sequential()\n",
    "model.add(LSTM(50,return_sequences=True,input_shape=(50,1)))\n",
    "model.add(LSTM(64, return_sequences=False))\n",
    "model.add(Dense(45, activation='relu'))\n",
    "model.compile(loss='binary_crossentropy', optimizer='adam')\n",
    "model.summary()\n"
   ]
  },
  {
   "cell_type": "code",
   "execution_count": 53,
   "id": "856e3f12",
   "metadata": {
    "scrolled": true
   },
   "outputs": [
    {
     "name": "stdout",
     "output_type": "stream",
     "text": [
      "Epoch 1/50\n",
      "WARNING:tensorflow:Model was constructed with shape (None, 50, 1) for input KerasTensor(type_spec=TensorSpec(shape=(None, 50, 1), dtype=tf.float32, name='lstm_10_input'), name='lstm_10_input', description=\"created by layer 'lstm_10_input'\"), but it was called on an input with incompatible shape (None, 44, 1).\n",
      "WARNING:tensorflow:Model was constructed with shape (None, 50, 1) for input KerasTensor(type_spec=TensorSpec(shape=(None, 50, 1), dtype=tf.float32, name='lstm_10_input'), name='lstm_10_input', description=\"created by layer 'lstm_10_input'\"), but it was called on an input with incompatible shape (None, 44, 1).\n",
      "89/89 [==============================] - ETA: 0s - loss: 1.0303WARNING:tensorflow:Model was constructed with shape (None, 50, 1) for input KerasTensor(type_spec=TensorSpec(shape=(None, 50, 1), dtype=tf.float32, name='lstm_10_input'), name='lstm_10_input', description=\"created by layer 'lstm_10_input'\"), but it was called on an input with incompatible shape (None, 44, 1).\n",
      "89/89 [==============================] - 9s 53ms/step - loss: 1.0303 - val_loss: 0.6604\n",
      "Epoch 2/50\n",
      "89/89 [==============================] - 4s 43ms/step - loss: 0.9796 - val_loss: 0.6650\n",
      "Epoch 3/50\n",
      "89/89 [==============================] - 5s 52ms/step - loss: 0.9788 - val_loss: 0.6553\n",
      "Epoch 4/50\n",
      "89/89 [==============================] - 5s 60ms/step - loss: 0.9752 - val_loss: 0.6590\n",
      "Epoch 5/50\n",
      "89/89 [==============================] - 4s 44ms/step - loss: 0.9749 - val_loss: 0.6628\n",
      "Epoch 6/50\n",
      "89/89 [==============================] - 4s 43ms/step - loss: 0.9244 - val_loss: 0.5967\n",
      "Epoch 7/50\n",
      "89/89 [==============================] - 4s 43ms/step - loss: 0.8561 - val_loss: 0.5900\n",
      "Epoch 8/50\n",
      "89/89 [==============================] - 4s 44ms/step - loss: 0.8530 - val_loss: 0.6070\n",
      "Epoch 9/50\n",
      "89/89 [==============================] - 4s 43ms/step - loss: 0.8552 - val_loss: 0.5836\n",
      "Epoch 10/50\n",
      "89/89 [==============================] - 4s 43ms/step - loss: 0.8506 - val_loss: 0.5922\n",
      "Epoch 11/50\n",
      "89/89 [==============================] - 4s 43ms/step - loss: 0.8457 - val_loss: 0.5908\n",
      "Epoch 12/50\n",
      "89/89 [==============================] - 4s 44ms/step - loss: 0.8449 - val_loss: 0.5721\n",
      "Epoch 13/50\n",
      "89/89 [==============================] - 4s 43ms/step - loss: 0.6793 - val_loss: 0.3886\n",
      "Epoch 14/50\n",
      "89/89 [==============================] - 4s 44ms/step - loss: 0.5261 - val_loss: 0.3681\n",
      "Epoch 15/50\n",
      "89/89 [==============================] - 4s 44ms/step - loss: 0.5132 - val_loss: 0.3575\n",
      "Epoch 16/50\n",
      "89/89 [==============================] - 4s 43ms/step - loss: 0.5333 - val_loss: 0.3649\n",
      "Epoch 17/50\n",
      "89/89 [==============================] - 4s 44ms/step - loss: 0.4787 - val_loss: 0.3456\n",
      "Epoch 18/50\n",
      "89/89 [==============================] - 4s 44ms/step - loss: 0.4682 - val_loss: 0.3513\n",
      "Epoch 19/50\n",
      "89/89 [==============================] - 4s 44ms/step - loss: 0.4760 - val_loss: 0.3680\n",
      "Epoch 20/50\n",
      "89/89 [==============================] - 5s 52ms/step - loss: 0.4816 - val_loss: 0.3666\n",
      "Epoch 21/50\n",
      "89/89 [==============================] - 4s 44ms/step - loss: 0.4573 - val_loss: 0.3336\n",
      "Epoch 22/50\n",
      "89/89 [==============================] - 4s 43ms/step - loss: 0.4754 - val_loss: 0.3637\n",
      "Epoch 23/50\n",
      "89/89 [==============================] - 4s 43ms/step - loss: 0.4791 - val_loss: 0.3549\n",
      "Epoch 24/50\n",
      "89/89 [==============================] - 4s 44ms/step - loss: 0.4580 - val_loss: 0.3803\n",
      "Epoch 25/50\n",
      "89/89 [==============================] - 4s 43ms/step - loss: 0.4383 - val_loss: 0.2647\n",
      "Epoch 26/50\n",
      "89/89 [==============================] - 4s 43ms/step - loss: 0.4534 - val_loss: 0.3064\n",
      "Epoch 27/50\n",
      "89/89 [==============================] - 4s 44ms/step - loss: 0.4091 - val_loss: 0.2669\n",
      "Epoch 28/50\n",
      "89/89 [==============================] - 4s 44ms/step - loss: 0.4628 - val_loss: 0.3187\n",
      "Epoch 29/50\n",
      "89/89 [==============================] - 4s 43ms/step - loss: 0.5025 - val_loss: 0.4034\n",
      "Epoch 30/50\n",
      "89/89 [==============================] - 4s 43ms/step - loss: 0.4821 - val_loss: 0.3463\n",
      "Epoch 31/50\n",
      "89/89 [==============================] - 4s 43ms/step - loss: 0.4408 - val_loss: 0.2878\n",
      "Epoch 32/50\n",
      "89/89 [==============================] - 4s 43ms/step - loss: 0.4064 - val_loss: 0.3568\n",
      "Epoch 33/50\n",
      "89/89 [==============================] - 4s 43ms/step - loss: 0.3947 - val_loss: 0.2607\n",
      "Epoch 34/50\n",
      "89/89 [==============================] - 4s 43ms/step - loss: 0.3424 - val_loss: 0.3871\n",
      "Epoch 35/50\n",
      "89/89 [==============================] - 4s 43ms/step - loss: 0.2839 - val_loss: 0.1835\n",
      "Epoch 36/50\n",
      "89/89 [==============================] - 4s 43ms/step - loss: 0.2522 - val_loss: 0.1826\n",
      "Epoch 37/50\n",
      "89/89 [==============================] - 4s 44ms/step - loss: 0.2387 - val_loss: 0.1267\n",
      "Epoch 38/50\n",
      "89/89 [==============================] - 4s 43ms/step - loss: 0.3010 - val_loss: 0.2525\n",
      "Epoch 39/50\n",
      "89/89 [==============================] - 4s 43ms/step - loss: 0.3572 - val_loss: 0.1763\n",
      "Epoch 40/50\n",
      "89/89 [==============================] - 4s 44ms/step - loss: 0.2044 - val_loss: 0.1666\n",
      "Epoch 41/50\n",
      "89/89 [==============================] - 4s 43ms/step - loss: 0.1635 - val_loss: 0.1357\n",
      "Epoch 42/50\n",
      "89/89 [==============================] - 4s 44ms/step - loss: 0.1241 - val_loss: 0.0898\n",
      "Epoch 43/50\n",
      "89/89 [==============================] - 4s 43ms/step - loss: 0.0792 - val_loss: 0.0436\n",
      "Epoch 44/50\n",
      "89/89 [==============================] - 4s 47ms/step - loss: 0.0389 - val_loss: 0.0134\n",
      "Epoch 45/50\n",
      "89/89 [==============================] - 4s 46ms/step - loss: 0.0270 - val_loss: 0.0200\n",
      "Epoch 46/50\n",
      "89/89 [==============================] - 4s 44ms/step - loss: 0.0115 - val_loss: 0.0026\n",
      "Epoch 47/50\n",
      "89/89 [==============================] - 4s 45ms/step - loss: 0.0035 - val_loss: 0.0012\n",
      "Epoch 48/50\n",
      "89/89 [==============================] - 4s 45ms/step - loss: 0.0014 - val_loss: 3.8014e-04\n",
      "Epoch 49/50\n",
      "89/89 [==============================] - 4s 45ms/step - loss: 0.0014 - val_loss: 3.0519e-04\n",
      "Epoch 50/50\n",
      "89/89 [==============================] - 4s 49ms/step - loss: 3.4433e-04 - val_loss: 3.0763e-05\n"
     ]
    },
    {
     "data": {
      "text/plain": [
       "<tensorflow.python.keras.callbacks.History at 0x7f8e70f99090>"
      ]
     },
     "execution_count": 53,
     "metadata": {},
     "output_type": "execute_result"
    }
   ],
   "source": [
    "#Training\n",
    "\n",
    "model.fit(x_train, y_train,\n",
    "         validation_data=(x_test, y_test),\n",
    "         batch_size=10,\n",
    "         epochs=50)"
   ]
  },
  {
   "cell_type": "code",
   "execution_count": 54,
   "id": "4aa42c24",
   "metadata": {},
   "outputs": [],
   "source": [
    "def gen_numbers_from_probability(nums_prob):\n",
    "\n",
    "    ball_box = []\n",
    "\n",
    "    for n in range(45):\n",
    "        ball_count = int(nums_prob[n] * 100 + 1)\n",
    "        ball = np.full((ball_count), n+1) #1부터 시작\n",
    "        ball_box += list(ball)\n",
    "\n",
    "    selected_balls = []\n",
    "\n",
    "    while True:\n",
    "        \n",
    "        if len(selected_balls) == 6:\n",
    "            break\n",
    "        \n",
    "        ball_index = np.random.randint(len(ball_box), size=1)[0]\n",
    "        ball = ball_box[ball_index]\n",
    "\n",
    "        if ball not in selected_balls:\n",
    "            selected_balls.append(ball)\n",
    "\n",
    "    return selected_balls"
   ]
  },
  {
   "cell_type": "code",
   "execution_count": 59,
   "id": "307398a7",
   "metadata": {},
   "outputs": [
    {
     "name": "stdout",
     "output_type": "stream",
     "text": [
      "receive numbers\n",
      "0 : [11, 16, 23, 26, 35, 42]\n",
      "1 : [1, 18, 22, 29, 33, 36]\n",
      "2 : [19, 21, 26, 31, 32, 43]\n",
      "3 : [5, 7, 13, 28, 41, 43]\n",
      "4 : [2, 3, 7, 8, 20, 27]\n",
      "5 : [4, 11, 17, 20, 29, 34]\n",
      "6 : [1, 3, 22, 28, 33, 43]\n",
      "7 : [8, 10, 14, 27, 31, 35]\n",
      "8 : [7, 11, 22, 34, 41, 42]\n",
      "9 : [10, 19, 23, 31, 37, 43]\n"
     ]
    }
   ],
   "source": [
    "# 마지막 회차까지 학습한 모델로 다음 회차 추론\n",
    "\n",
    "print('receive numbers')\n",
    "\n",
    "xs = np.reshape(x_test,(x_test.shape[0], x_test.shape[1],-1))\n",
    "\n",
    "ys_pred = model.predict_on_batch(xs)\n",
    "\n",
    "list_numbers = []\n",
    "\n",
    "for n in range(10):\n",
    "    numbers = gen_numbers_from_probability(ys_pred[0])\n",
    "    numbers.sort()\n",
    "    print('{0} : {1}'.format(n, numbers))\n",
    "    list_numbers.append(numbers)\n",
    "    "
   ]
  },
  {
   "cell_type": "code",
   "execution_count": null,
   "id": "028d8394",
   "metadata": {},
   "outputs": [],
   "source": []
  },
  {
   "cell_type": "code",
   "execution_count": null,
   "id": "ad91bba5",
   "metadata": {},
   "outputs": [],
   "source": []
  }
 ],
 "metadata": {
  "kernelspec": {
   "display_name": "Python [conda env:pp379] *",
   "language": "python",
   "name": "conda-env-pp379-py"
  },
  "language_info": {
   "codemirror_mode": {
    "name": "ipython",
    "version": 3
   },
   "file_extension": ".py",
   "mimetype": "text/x-python",
   "name": "python",
   "nbconvert_exporter": "python",
   "pygments_lexer": "ipython3",
   "version": "3.7.9"
  }
 },
 "nbformat": 4,
 "nbformat_minor": 5
}
